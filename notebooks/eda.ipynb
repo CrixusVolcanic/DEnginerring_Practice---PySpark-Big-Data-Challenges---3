{
 "cells": [
  {
   "cell_type": "code",
   "execution_count": 2,
   "metadata": {},
   "outputs": [],
   "source": [
    "from pyspark.sql import SparkSession"
   ]
  },
  {
   "cell_type": "code",
   "execution_count": 3,
   "metadata": {},
   "outputs": [
    {
     "name": "stderr",
     "output_type": "stream",
     "text": [
      "Setting default log level to \"WARN\".\n",
      "To adjust logging level use sc.setLogLevel(newLevel). For SparkR, use setLogLevel(newLevel).\n",
      "25/01/02 12:53:27 WARN NativeCodeLoader: Unable to load native-hadoop library for your platform... using builtin-java classes where applicable\n"
     ]
    }
   ],
   "source": [
    "spark = SparkSession.builder.appName(\"Challenge 3\").getOrCreate()"
   ]
  },
  {
   "cell_type": "code",
   "execution_count": 6,
   "metadata": {},
   "outputs": [],
   "source": [
    "df_clients = spark.read.format(\"CSV\").option(\"header\", True).load(\"../resources/clientes_reducido.csv\")"
   ]
  },
  {
   "cell_type": "code",
   "execution_count": 7,
   "metadata": {},
   "outputs": [
    {
     "name": "stdout",
     "output_type": "stream",
     "text": [
      "root\n",
      " |-- customer_id: string (nullable = true)\n",
      " |-- nombre: string (nullable = true)\n",
      " |-- país: string (nullable = true)\n",
      " |-- edad: string (nullable = true)\n",
      " |-- género: string (nullable = true)\n",
      "\n",
      "+-----------+------+----+----+------+\n",
      "|customer_id|nombre|país|edad|género|\n",
      "+-----------+------+----+----+------+\n",
      "|   bdd640fb|Joshua|  GR|  56|     F|\n",
      "+-----------+------+----+----+------+\n",
      "only showing top 1 row\n",
      "\n"
     ]
    },
    {
     "data": {
      "text/plain": [
       "1000"
      ]
     },
     "execution_count": 7,
     "metadata": {},
     "output_type": "execute_result"
    }
   ],
   "source": [
    "df_clients.printSchema()\n",
    "df_clients.show(1)\n",
    "df_clients.count()"
   ]
  },
  {
   "cell_type": "code",
   "execution_count": 9,
   "metadata": {},
   "outputs": [],
   "source": [
    "df_transacctions = spark.read.format(\"JSON\").load(\"../resources/transacciones_reducido.json\")"
   ]
  },
  {
   "cell_type": "code",
   "execution_count": 11,
   "metadata": {},
   "outputs": [
    {
     "name": "stdout",
     "output_type": "stream",
     "text": [
      "root\n",
      " |-- amount: double (nullable = true)\n",
      " |-- currency: string (nullable = true)\n",
      " |-- customer_id: string (nullable = true)\n",
      " |-- product_id: string (nullable = true)\n",
      " |-- timestamp: string (nullable = true)\n",
      " |-- transaction_id: string (nullable = true)\n",
      "\n",
      "+-------+--------+-----------+----------+-------------------+--------------+\n",
      "| amount|currency|customer_id|product_id|          timestamp|transaction_id|\n",
      "+-------+--------+-----------+----------+-------------------+--------------+\n",
      "|1487.45|     COP|   86879aa9|  5e244824|2024-09-23T17:45:15|      a23ff67d|\n",
      "+-------+--------+-----------+----------+-------------------+--------------+\n",
      "only showing top 1 row\n",
      "\n"
     ]
    },
    {
     "data": {
      "text/plain": [
       "10000"
      ]
     },
     "execution_count": 11,
     "metadata": {},
     "output_type": "execute_result"
    }
   ],
   "source": [
    "df_transacctions.printSchema()\n",
    "df_transacctions.show(1)\n",
    "df_transacctions.count()"
   ]
  }
 ],
 "metadata": {
  "kernelspec": {
   "display_name": "3.11.2",
   "language": "python",
   "name": "python3"
  },
  "language_info": {
   "codemirror_mode": {
    "name": "ipython",
    "version": 3
   },
   "file_extension": ".py",
   "mimetype": "text/x-python",
   "name": "python",
   "nbconvert_exporter": "python",
   "pygments_lexer": "ipython3",
   "version": "3.11.2"
  }
 },
 "nbformat": 4,
 "nbformat_minor": 2
}
